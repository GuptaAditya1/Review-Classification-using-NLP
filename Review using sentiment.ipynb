{
 "cells": [
  {
   "cell_type": "code",
   "execution_count": null,
   "id": "eaa08658-a6fc-44e5-975d-297b96c2d385",
   "metadata": {},
   "outputs": [],
   "source": [
    "#Sentiment analysis"
   ]
  },
  {
   "cell_type": "code",
   "execution_count": 1,
   "id": "9cafaa0f-8837-4e4f-8dd9-5b646e15d219",
   "metadata": {},
   "outputs": [],
   "source": [
    "from sklearn.feature_extraction.text import CountVectorizer\n",
    "from sklearn.naive_bayes import BernoulliNB\n",
    "from sklearn.metrics import accuracy_score, precision_score\n",
    "\n",
    "def get_all_data():\n",
    "    root = \"C:/Users/shale/Desktop/fml/\"\n",
    "    data = []\n",
    "    for filename in [\"imdb.txt\", \"amz.txt\", \"yelp.txt\"]:\n",
    "        with open(root + filename, \"r\") as text_file:\n",
    "            data.extend(text_file.read().split('\\n'))\n",
    "    return data\n",
    "\n",
    "def preprocessing_data(data):\n",
    "    processed_data = []\n",
    "    for single_data in data:\n",
    "        parts = single_data.split(\"\\t\")\n",
    "        if len(parts) == 2 and parts[1] != \"\":\n",
    "            processed_data.append(parts)\n",
    "    return processed_data\n",
    "\n",
    "def split_data(data):\n",
    "    total = len(data)\n",
    "    training_ratio = 0.75\n",
    "    training_data = data[:int(total * training_ratio)]\n",
    "    evaluation_data = data[int(total * training_ratio):]\n",
    "    return training_data, evaluation_data\n",
    "\n",
    "def preprocessing_step():\n",
    "    data = get_all_data()\n",
    "    processed_data = preprocessing_data(data)\n",
    "    return split_data(processed_data)\n",
    "\n"
   ]
  },
  {
   "cell_type": "code",
   "execution_count": null,
   "id": "de40ef2a-6515-4e5a-86d0-6ffef938d157",
   "metadata": {},
   "outputs": [
    {
     "name": "stdout",
     "output_type": "stream",
     "text": [
      "Model Accuracy: 82.00%\n"
     ]
    }
   ],
   "source": [
    "def training_step(data, vectorizer):\n",
    "    training_text = [item[0] for item in data]\n",
    "    training_result = [item[1] for item in data]\n",
    "    training_text = vectorizer.fit_transform(training_text)\n",
    "    return BernoulliNB().fit(training_text, training_result)\n",
    "\n",
    "def analyse_text(classifier, vectorizer, text):\n",
    "    return text, classifier.predict(vectorizer.transform([text]))\n",
    "\n",
    "def print_result(result):\n",
    "    text, analysis_result = result\n",
    "    print_text = \"Positive\" if analysis_result[0] == '1' else \"Negative\"\n",
    "    return text, print_text\n",
    "\n",
    "def evaluate_model(classifier, vectorizer, evaluation_data):\n",
    "    evaluation_text = [item[0] for item in evaluation_data]\n",
    "    evaluation_result = [item[1] for item in evaluation_data]\n",
    "    predictions = classifier.predict(vectorizer.transform(evaluation_text))\n",
    "    accuracy = accuracy_score(evaluation_result, predictions)\n",
    "    #accuracy_score(evaluation_result, predictions)\n",
    "    return accuracy\n",
    "# Main script\n",
    "if __name__ == \"__main__\":\n",
    "    # Preprocessing\n",
    "    training_data, evaluation_data = preprocessing_step()\n",
    "    vectorizer = CountVectorizer(binary=True)\n",
    "    classifier = training_step(training_data, vectorizer)\n",
    "    \n",
    "    accuracy = evaluate_model(classifier, vectorizer, evaluation_data)\n",
    "    print(f\"Model Accuracy: {accuracy * 100:.2f}%\")\n",
    "    # User input for sentiment analysis\n",
    "    while True:\n",
    "        review = input(\"Enter the review (or type 'exit' to quit): \")\n",
    "        if review.lower() == 'exit':\n",
    "            break\n",
    "        result = print_result(analyse_text(classifier, vectorizer, review))\n",
    "        print(f\"Review: {result[0]}\\nSentiment: {result[1]}\")\n"
   ]
  },
  {
   "cell_type": "code",
   "execution_count": null,
   "id": "c0048d2d-bcf1-4c6b-a161-377c322cd023",
   "metadata": {},
   "outputs": [],
   "source": [
    "#Ans1 I checked for issing values and used standardscaler\n",
    "#Ans2 I used lstm rnn model\n",
    "\n",
    "#4 oldbalanceOrg newbalanceOrig\n",
    "# yes as they  show difference\n",
    "# company should carefully monitor transactinso and use ai model for prevention."
   ]
  }
 ],
 "metadata": {
  "kernelspec": {
   "display_name": "Python 3 (ipykernel)",
   "language": "python",
   "name": "python3"
  },
  "language_info": {
   "codemirror_mode": {
    "name": "ipython",
    "version": 3
   },
   "file_extension": ".py",
   "mimetype": "text/x-python",
   "name": "python",
   "nbconvert_exporter": "python",
   "pygments_lexer": "ipython3",
   "version": "3.11.5"
  }
 },
 "nbformat": 4,
 "nbformat_minor": 5
}
